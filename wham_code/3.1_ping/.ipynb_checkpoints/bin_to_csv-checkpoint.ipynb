{
 "cells": [
  {
   "cell_type": "code",
   "execution_count": 2,
   "id": "b13f6aea-8467-4e7a-815b-4d02436ea9ac",
   "metadata": {},
   "outputs": [],
   "source": [
    "import pandas as pd"
   ]
  },
  {
   "cell_type": "code",
   "execution_count": 6,
   "id": "1fb0a76a-9fd1-4163-84f0-e91fb4044663",
   "metadata": {},
   "outputs": [],
   "source": [
    "import os"
   ]
  },
  {
   "cell_type": "code",
   "execution_count": 3,
   "id": "6f6f4928-1df5-45c6-9ff3-84f4ef7ef2fd",
   "metadata": {},
   "outputs": [],
   "source": [
    "campaign=\"VP\""
   ]
  },
  {
   "cell_type": "code",
   "execution_count": 4,
   "id": "558886b1-7213-4b01-a0fc-26f208f48e7c",
   "metadata": {},
   "outputs": [],
   "source": [
    "divenumber=\"DIV4\""
   ]
  },
  {
   "cell_type": "code",
   "execution_count": 7,
   "id": "b1402bd3-7abf-4ce7-94b0-f63157723ba1",
   "metadata": {},
   "outputs": [],
   "source": [
    "os.chdir('c:\\\\Users\\\\leasa\\\\Documents\\\\wham')"
   ]
  },
  {
   "cell_type": "code",
   "execution_count": 9,
   "id": "3fd02fc9-1f10-4ac3-b30a-d502533929dd",
   "metadata": {},
   "outputs": [
    {
     "name": "stdout",
     "output_type": "stream",
     "text": [
      "Header:\n",
      "    String: \u0000P\u0000i\u0000n\u0000g\u0000V\u0000i\u0000e\u0000w\u0000e\u0000r\u0000 \u0000s\u0000e\u0000n\u0000s\u0000o\u0000r\u0000 \u0000l\u0000o\u0000g\u0000 \u0000f\u0000i\u0000l\u0000e\n",
      "    Version: 1\n",
      "        PingViewerBuildInfo:\n",
      "        hash: \u0000f\u0000f\u0000d\u0000f\u0000c\u00006\u00003\n",
      "        date: \u00002\u00000\u00002\u00001\u0000-\u00000\u00007\u0000-\u00001\u00003\u0000T\u00001\u00004\u0000:\u00005\u00008\u0000:\u00001\u00002\u0000-\u00000\u00004\u0000:\u00000\u00000\n",
      "        tag: \n",
      "        os:\n",
      "            name: \u0000W\u0000i\u0000n\u0000d\u0000o\u0000w\u0000s\u0000 \u00001\u00000\u0000 \u0000V\u0000e\u0000r\u0000s\u0000i\u0000o\u0000n\u0000 \u00002\u00000\u00000\u00009\n",
      "            version: \u00001\u00000\n",
      "        \n",
      "        Sensor:\n",
      "        Family: 1\n",
      "        Type: 1\n",
      "        \n",
      "    \n",
      "Unknown message:  16916\n"
     ]
    }
   ],
   "source": [
    "! python3 wham_code/ping/decode_bin_log.py wham_data/{campaign}/{divenumber}/{campaign}_{divenumber}.bin"
   ]
  },
  {
   "cell_type": "code",
   "execution_count": 12,
   "id": "1da5007b-2048-4ccc-ac8f-2b82b12fd667",
   "metadata": {},
   "outputs": [],
   "source": [
    "file=open(f\"wham_data/{campaign}/{divenumber}/{campaign}_{divenumber}.bin_info.txt\",'r')\n",
    "\n",
    "lines = file.readlines()\n",
    "\n",
    "time_values = []\n",
    "bathymetry = []\n",
    "confidence = []\n",
    "\n",
    "for line in lines:\n",
    "    split = line.split()\n",
    "    if \"timestamp:\" in split:\n",
    "        time_values.append(split[1].replace('\\x00',''))\n",
    "    if \"distance:\" in split:\n",
    "        bathymetry.append(int(split[2]))\n",
    "    if \"confidence:\" in split:\n",
    "        confidence.append(int(split[2]))\n",
    "\n",
    "df = pd.DataFrame(columns=['time','bathymetry','confidence'])\n",
    "df['time'] = time_values\n",
    "df['bathymetry'] = bathymetry\n",
    "df['confidence'] = confidence"
   ]
  },
  {
   "cell_type": "code",
   "execution_count": 13,
   "id": "85636711-23b2-4ca6-8a74-d77b845cd4d1",
   "metadata": {},
   "outputs": [
    {
     "data": {
      "text/plain": [
       "array([ 24,   9,   0,  22,  20,  23,  10,  11,  19,  29,  17,   8,  18,\n",
       "        16,  30,  26,  37,  21,  27,  25,  34,  45,  43,  49,  51,  55,\n",
       "        48,  60,  53,  46,  36,  35,  12,  32,  41,  31,  42,  39,   7,\n",
       "        14,  15,  47,  38,  71,  58,  33,  13,  44,  28,  40,  68,  52,\n",
       "        62,  77,  61,  89,  64,  50,  54,   6,  63,  78,  75,  79,  82,\n",
       "        81,  66,  59,  57,  67,  56,  65,  70,  69,  72,   5,  73,  76,\n",
       "        74,  84,  85,  90,  83,   3,   4,   2, 100,   1,  95,  96,  92,\n",
       "        94,  98,  91,  93,  87,  88,  97,  86,  80,  99], dtype=int64)"
      ]
     },
     "execution_count": 13,
     "metadata": {},
     "output_type": "execute_result"
    }
   ],
   "source": [
    "df['confidence'].unique()"
   ]
  },
  {
   "cell_type": "code",
   "execution_count": 15,
   "id": "1dc1aa3c-7974-4d41-b44e-ed1b8f805b23",
   "metadata": {},
   "outputs": [],
   "source": [
    "df.to_csv(f'wham_data/{campaign}/{divenumber}/{campaign}_{divenumber}_sonar.csv',index=None)"
   ]
  }
 ],
 "metadata": {
  "kernelspec": {
   "display_name": "Python 3 (ipykernel)",
   "language": "python",
   "name": "python3"
  },
  "language_info": {
   "codemirror_mode": {
    "name": "ipython",
    "version": 3
   },
   "file_extension": ".py",
   "mimetype": "text/x-python",
   "name": "python",
   "nbconvert_exporter": "python",
   "pygments_lexer": "ipython3",
   "version": "3.8.13"
  }
 },
 "nbformat": 4,
 "nbformat_minor": 5
}
