{
 "cells": [
  {
   "cell_type": "code",
   "execution_count": 1,
   "id": "e6f8d2bf-318a-42d1-b635-170a0a2ead91",
   "metadata": {},
   "outputs": [],
   "source": [
    "import pandas as pd"
   ]
  },
  {
   "cell_type": "code",
   "execution_count": 1,
   "id": "7b67bfc3-bce3-4104-8b15-f58c9668bf03",
   "metadata": {},
   "outputs": [
    {
     "ename": "ModuleNotFoundError",
     "evalue": "No module named 'brping'",
     "output_type": "error",
     "traceback": [
      "\u001b[1;31m---------------------------------------------------------------------------\u001b[0m",
      "\u001b[1;31mModuleNotFoundError\u001b[0m                       Traceback (most recent call last)",
      "Cell \u001b[1;32mIn [1], line 1\u001b[0m\n\u001b[1;32m----> 1\u001b[0m \u001b[38;5;28;01mfrom\u001b[39;00m \u001b[38;5;21;01mdecode_sensor_binary_log\u001b[39;00m \u001b[38;5;28;01mimport\u001b[39;00m PingViewerLogReader\n",
      "File \u001b[1;32m~\\Documents\\wham\\wham_code\\ping\\decode_sensor_binary_log.py:9\u001b[0m\n\u001b[0;32m      5\u001b[0m \u001b[38;5;66;03m# 3.7 for dataclasses, 3.8 for walrus (:=) in recovery\u001b[39;00m\n\u001b[0;32m      6\u001b[0m \u001b[38;5;28;01massert\u001b[39;00m (sys\u001b[38;5;241m.\u001b[39mversion_info\u001b[38;5;241m.\u001b[39mmajor \u001b[38;5;241m>\u001b[39m\u001b[38;5;241m=\u001b[39m \u001b[38;5;241m3\u001b[39m \u001b[38;5;129;01mand\u001b[39;00m sys\u001b[38;5;241m.\u001b[39mversion_info\u001b[38;5;241m.\u001b[39mminor \u001b[38;5;241m>\u001b[39m\u001b[38;5;241m=\u001b[39m \u001b[38;5;241m8\u001b[39m), \\\n\u001b[0;32m      7\u001b[0m     \u001b[38;5;124m\"\u001b[39m\u001b[38;5;124mPython version should be at least 3.8.\u001b[39m\u001b[38;5;124m\"\u001b[39m\n\u001b[1;32m----> 9\u001b[0m \u001b[38;5;28;01mfrom\u001b[39;00m \u001b[38;5;21;01mbrping\u001b[39;00m \u001b[38;5;28;01mimport\u001b[39;00m PingParser, PingMessage\n\u001b[0;32m     10\u001b[0m \u001b[38;5;28;01mfrom\u001b[39;00m \u001b[38;5;21;01mdataclasses\u001b[39;00m \u001b[38;5;28;01mimport\u001b[39;00m dataclass\n\u001b[0;32m     11\u001b[0m \u001b[38;5;28;01mfrom\u001b[39;00m \u001b[38;5;21;01mtyping\u001b[39;00m \u001b[38;5;28;01mimport\u001b[39;00m IO, Any, Set\n",
      "\u001b[1;31mModuleNotFoundError\u001b[0m: No module named 'brping'"
     ]
    }
   ],
   "source": [
    "from decode_sensor_binary_log import PingViewerLogReader"
   ]
  },
  {
   "cell_type": "code",
   "execution_count": 4,
   "id": "68bd5e2d-0ce8-4633-bb2f-bcf608a3dec2",
   "metadata": {},
   "outputs": [],
   "source": [
    "from datetime import datetime, timedelta, time"
   ]
  },
  {
   "cell_type": "code",
   "execution_count": 5,
   "id": "7e6d3150-bae3-4108-82f4-2c47180e56ad",
   "metadata": {},
   "outputs": [],
   "source": [
    "from pathlib import Path"
   ]
  },
  {
   "cell_type": "code",
   "execution_count": 6,
   "id": "deece686-180b-4055-ac5b-9697f4669ec0",
   "metadata": {},
   "outputs": [],
   "source": [
    "filename = \"20220601-DIV2\""
   ]
  },
  {
   "cell_type": "code",
   "execution_count": 7,
   "id": "b787f2da-feb4-435f-a489-9b821fb81fdf",
   "metadata": {},
   "outputs": [],
   "source": [
    "import csv\n",
    "\n",
    "# TODO: put in the path to the log file you want to process\n",
    "#  e.g. \"~/My Documents/PingViewer/Sensor_Log/something.bin\""
   ]
  },
  {
   "cell_type": "code",
   "execution_count": 8,
   "id": "800edaa9-e52f-404f-8e45-b078bbe8fa2d",
   "metadata": {},
   "outputs": [],
   "source": [
    "logfile = Path(f\"ping_analysis/files/{filename}.bin\")"
   ]
  },
  {
   "cell_type": "code",
   "execution_count": 9,
   "id": "e2ea4cdc-91ec-48fd-81b5-66635eb7a204",
   "metadata": {},
   "outputs": [],
   "source": [
    "from datetime import datetime, timedelta, time"
   ]
  },
  {
   "cell_type": "code",
   "execution_count": 10,
   "id": "8e2d2acc-b847-44c8-92b9-29e71b3602ac",
   "metadata": {},
   "outputs": [],
   "source": [
    "def to_timedelta(time_str: str) -> timedelta:\n",
    "    ''' Returns a time delta from an iso-format time string. '''\n",
    "    delta = time.fromisoformat(time_str)\n",
    "    return timedelta(hours=delta.hour, minutes=delta.minute,\n",
    "                     seconds=delta.second, microseconds=delta.microsecond)"
   ]
  },
  {
   "cell_type": "code",
   "execution_count": 11,
   "id": "ae7b5fe1-a9ab-44e0-bb42-6084cbb5e4e1",
   "metadata": {},
   "outputs": [],
   "source": [
    "log = PingViewerLogReader(logfile)"
   ]
  },
  {
   "cell_type": "code",
   "execution_count": 12,
   "id": "839dff49-44a6-4c1d-ae7f-a610704976e4",
   "metadata": {},
   "outputs": [],
   "source": [
    "outfile = Path(f\"csv-files/{filename}\").with_suffix(\".csv\")"
   ]
  },
  {
   "cell_type": "code",
   "execution_count": 13,
   "id": "87a6c4a5-91c3-4669-974d-952f623e129a",
   "metadata": {},
   "outputs": [
    {
     "ename": "ValueError",
     "evalue": "time data '20220601-DIV2' does not match format '%Y%m%d-%H%M%S%f'",
     "output_type": "error",
     "traceback": [
      "\u001b[1;31m---------------------------------------------------------------------------\u001b[0m",
      "\u001b[1;31mValueError\u001b[0m                                Traceback (most recent call last)",
      "Input \u001b[1;32mIn [13]\u001b[0m, in \u001b[0;36m<cell line: 5>\u001b[1;34m()\u001b[0m\n\u001b[0;32m      1\u001b[0m \u001b[38;5;66;03m# ideally it would be good to localise this to your timezone,\u001b[39;00m\n\u001b[0;32m      2\u001b[0m \u001b[38;5;66;03m#  but in this case it shouldn't cause issues unless you were\u001b[39;00m\n\u001b[0;32m      3\u001b[0m \u001b[38;5;66;03m#  recording the sonar data at the time of a daylight savings\u001b[39;00m\n\u001b[0;32m      4\u001b[0m \u001b[38;5;66;03m#  changeover or something\u001b[39;00m\n\u001b[1;32m----> 5\u001b[0m start_time \u001b[38;5;241m=\u001b[39m \u001b[43mdatetime\u001b[49m\u001b[38;5;241;43m.\u001b[39;49m\u001b[43mstrptime\u001b[49m\u001b[43m(\u001b[49m\u001b[43mlogfile\u001b[49m\u001b[38;5;241;43m.\u001b[39;49m\u001b[43mstem\u001b[49m\u001b[43m,\u001b[49m\u001b[43m \u001b[49m\u001b[38;5;124;43m\"\u001b[39;49m\u001b[38;5;124;43m%\u001b[39;49m\u001b[38;5;124;43mY\u001b[39;49m\u001b[38;5;124;43m%\u001b[39;49m\u001b[38;5;124;43mm\u001b[39;49m\u001b[38;5;132;43;01m%d\u001b[39;49;00m\u001b[38;5;124;43m-\u001b[39;49m\u001b[38;5;124;43m%\u001b[39;49m\u001b[38;5;124;43mH\u001b[39;49m\u001b[38;5;124;43m%\u001b[39;49m\u001b[38;5;124;43mM\u001b[39;49m\u001b[38;5;124;43m%\u001b[39;49m\u001b[38;5;124;43mS\u001b[39;49m\u001b[38;5;132;43;01m%f\u001b[39;49;00m\u001b[38;5;124;43m\"\u001b[39;49m\u001b[43m)\u001b[49m\n",
      "File \u001b[1;32mC:\\Program Files\\WindowsApps\\PythonSoftwareFoundation.Python.3.10_3.10.1520.0_x64__qbz5n2kfra8p0\\lib\\_strptime.py:568\u001b[0m, in \u001b[0;36m_strptime_datetime\u001b[1;34m(cls, data_string, format)\u001b[0m\n\u001b[0;32m    565\u001b[0m \u001b[38;5;28;01mdef\u001b[39;00m \u001b[38;5;21m_strptime_datetime\u001b[39m(\u001b[38;5;28mcls\u001b[39m, data_string, \u001b[38;5;28mformat\u001b[39m\u001b[38;5;241m=\u001b[39m\u001b[38;5;124m\"\u001b[39m\u001b[38;5;132;01m%a\u001b[39;00m\u001b[38;5;124m \u001b[39m\u001b[38;5;124m%\u001b[39m\u001b[38;5;124mb \u001b[39m\u001b[38;5;132;01m%d\u001b[39;00m\u001b[38;5;124m \u001b[39m\u001b[38;5;124m%\u001b[39m\u001b[38;5;124mH:\u001b[39m\u001b[38;5;124m%\u001b[39m\u001b[38;5;124mM:\u001b[39m\u001b[38;5;124m%\u001b[39m\u001b[38;5;124mS \u001b[39m\u001b[38;5;124m%\u001b[39m\u001b[38;5;124mY\u001b[39m\u001b[38;5;124m\"\u001b[39m):\n\u001b[0;32m    566\u001b[0m     \u001b[38;5;124;03m\"\"\"Return a class cls instance based on the input string and the\u001b[39;00m\n\u001b[0;32m    567\u001b[0m \u001b[38;5;124;03m    format string.\"\"\"\u001b[39;00m\n\u001b[1;32m--> 568\u001b[0m     tt, fraction, gmtoff_fraction \u001b[38;5;241m=\u001b[39m \u001b[43m_strptime\u001b[49m\u001b[43m(\u001b[49m\u001b[43mdata_string\u001b[49m\u001b[43m,\u001b[49m\u001b[43m \u001b[49m\u001b[38;5;28;43mformat\u001b[39;49m\u001b[43m)\u001b[49m\n\u001b[0;32m    569\u001b[0m     tzname, gmtoff \u001b[38;5;241m=\u001b[39m tt[\u001b[38;5;241m-\u001b[39m\u001b[38;5;241m2\u001b[39m:]\n\u001b[0;32m    570\u001b[0m     args \u001b[38;5;241m=\u001b[39m tt[:\u001b[38;5;241m6\u001b[39m] \u001b[38;5;241m+\u001b[39m (fraction,)\n",
      "File \u001b[1;32mC:\\Program Files\\WindowsApps\\PythonSoftwareFoundation.Python.3.10_3.10.1520.0_x64__qbz5n2kfra8p0\\lib\\_strptime.py:349\u001b[0m, in \u001b[0;36m_strptime\u001b[1;34m(data_string, format)\u001b[0m\n\u001b[0;32m    347\u001b[0m found \u001b[38;5;241m=\u001b[39m format_regex\u001b[38;5;241m.\u001b[39mmatch(data_string)\n\u001b[0;32m    348\u001b[0m \u001b[38;5;28;01mif\u001b[39;00m \u001b[38;5;129;01mnot\u001b[39;00m found:\n\u001b[1;32m--> 349\u001b[0m     \u001b[38;5;28;01mraise\u001b[39;00m \u001b[38;5;167;01mValueError\u001b[39;00m(\u001b[38;5;124m\"\u001b[39m\u001b[38;5;124mtime data \u001b[39m\u001b[38;5;132;01m%r\u001b[39;00m\u001b[38;5;124m does not match format \u001b[39m\u001b[38;5;132;01m%r\u001b[39;00m\u001b[38;5;124m\"\u001b[39m \u001b[38;5;241m%\u001b[39m\n\u001b[0;32m    350\u001b[0m                      (data_string, \u001b[38;5;28mformat\u001b[39m))\n\u001b[0;32m    351\u001b[0m \u001b[38;5;28;01mif\u001b[39;00m \u001b[38;5;28mlen\u001b[39m(data_string) \u001b[38;5;241m!=\u001b[39m found\u001b[38;5;241m.\u001b[39mend():\n\u001b[0;32m    352\u001b[0m     \u001b[38;5;28;01mraise\u001b[39;00m \u001b[38;5;167;01mValueError\u001b[39;00m(\u001b[38;5;124m\"\u001b[39m\u001b[38;5;124munconverted data remains: \u001b[39m\u001b[38;5;132;01m%s\u001b[39;00m\u001b[38;5;124m\"\u001b[39m \u001b[38;5;241m%\u001b[39m\n\u001b[0;32m    353\u001b[0m                       data_string[found\u001b[38;5;241m.\u001b[39mend():])\n",
      "\u001b[1;31mValueError\u001b[0m: time data '20220601-DIV2' does not match format '%Y%m%d-%H%M%S%f'"
     ]
    }
   ],
   "source": [
    "# ideally it would be good to localise this to your timezone,\n",
    "#  but in this case it shouldn't cause issues unless you were\n",
    "#  recording the sonar data at the time of a daylight savings\n",
    "#  changeover or something\n",
    "start_time = datetime.strptime(logfile.stem, \"%Y%m%d-%H%M%S%f\")"
   ]
  },
  {
   "cell_type": "code",
   "execution_count": 13,
   "id": "00ca03a3-7e4b-4da0-ab05-e305f34e8f9c",
   "metadata": {},
   "outputs": [
    {
     "ename": "FileNotFoundError",
     "evalue": "[Errno 2] No such file or directory: 'ping_analysis\\\\files\\\\20220601-DIV1-2.bin'",
     "output_type": "error",
     "traceback": [
      "\u001b[1;31m---------------------------------------------------------------------------\u001b[0m",
      "\u001b[1;31mFileNotFoundError\u001b[0m                         Traceback (most recent call last)",
      "Input \u001b[1;32mIn [13]\u001b[0m, in \u001b[0;36m<cell line: 1>\u001b[1;34m()\u001b[0m\n\u001b[0;32m      2\u001b[0m csv_writer \u001b[38;5;241m=\u001b[39m csv\u001b[38;5;241m.\u001b[39mwriter(out)\n\u001b[0;32m      3\u001b[0m csv_writer\u001b[38;5;241m.\u001b[39mwriterow((\u001b[38;5;124m\"\u001b[39m\u001b[38;5;124mtimestamp\u001b[39m\u001b[38;5;124m\"\u001b[39m, \u001b[38;5;124m\"\u001b[39m\u001b[38;5;124mdistance [mm]\u001b[39m\u001b[38;5;124m\"\u001b[39m, \u001b[38;5;124m\"\u001b[39m\u001b[38;5;124mconfidence [\u001b[39m\u001b[38;5;124m%\u001b[39m\u001b[38;5;124m]\u001b[39m\u001b[38;5;124m\"\u001b[39m))\n\u001b[1;32m----> 4\u001b[0m \u001b[38;5;28;01mfor\u001b[39;00m timestamp, message \u001b[38;5;129;01min\u001b[39;00m log\u001b[38;5;241m.\u001b[39mparser():\n\u001b[0;32m      5\u001b[0m     \u001b[38;5;66;03m# convert the 'duration since scanning started' into a local-time timestamp\u001b[39;00m\n\u001b[0;32m      6\u001b[0m     \u001b[38;5;66;03m#  the .replace here ensures cross-compatibility between operating systems\u001b[39;00m\n\u001b[0;32m      7\u001b[0m     timestamp \u001b[38;5;241m=\u001b[39m start_time \u001b[38;5;241m+\u001b[39m to_timedelta(timestamp\u001b[38;5;241m.\u001b[39mreplace(\u001b[38;5;124m'\u001b[39m\u001b[38;5;130;01m\\x00\u001b[39;00m\u001b[38;5;124m'\u001b[39m,\u001b[38;5;124m'\u001b[39m\u001b[38;5;124m'\u001b[39m))\n\u001b[0;32m      8\u001b[0m     csv_writer\u001b[38;5;241m.\u001b[39mwriterow((timestamp, message\u001b[38;5;241m.\u001b[39mdistance, message\u001b[38;5;241m.\u001b[39mconfidence))\n",
      "File \u001b[1;32m~\\Documents\\wham\\ping\\decode_sensor_binary_log.py:199\u001b[0m, in \u001b[0;36mPingViewerLogReader.parser\u001b[1;34m(self, message_ids)\u001b[0m\n\u001b[0;32m    187\u001b[0m \u001b[38;5;124;03m\"\"\" Returns a generator that parses and decodes this log's messages.\u001b[39;00m\n\u001b[0;32m    188\u001b[0m \n\u001b[0;32m    189\u001b[0m \u001b[38;5;124;03mYields (timestamp, message) pairs. message decoded as a PingMessage.\u001b[39;00m\n\u001b[1;32m   (...)\u001b[0m\n\u001b[0;32m    195\u001b[0m \n\u001b[0;32m    196\u001b[0m \u001b[38;5;124;03m\"\"\"\u001b[39;00m\n\u001b[0;32m    197\u001b[0m \u001b[38;5;28mself\u001b[39m\u001b[38;5;241m.\u001b[39m_parser \u001b[38;5;241m=\u001b[39m PingParser()\n\u001b[1;32m--> 199\u001b[0m \u001b[38;5;28;01mfor\u001b[39;00m (timestamp, message) \u001b[38;5;129;01min\u001b[39;00m \u001b[38;5;28mself\u001b[39m:\n\u001b[0;32m    200\u001b[0m     \u001b[38;5;66;03m# parse each byte of the message\u001b[39;00m\n\u001b[0;32m    201\u001b[0m     \u001b[38;5;28;01mfor\u001b[39;00m byte \u001b[38;5;129;01min\u001b[39;00m message:\n\u001b[0;32m    202\u001b[0m         \u001b[38;5;66;03m# Check if the parser has registered and verified this message\u001b[39;00m\n\u001b[0;32m    203\u001b[0m         \u001b[38;5;28;01mif\u001b[39;00m \u001b[38;5;28mself\u001b[39m\u001b[38;5;241m.\u001b[39m_parser\u001b[38;5;241m.\u001b[39mparse_byte(byte) \u001b[38;5;241m==\u001b[39m \u001b[38;5;28mself\u001b[39m\u001b[38;5;241m.\u001b[39m_parser\u001b[38;5;241m.\u001b[39mNEW_MESSAGE:\n\u001b[0;32m    204\u001b[0m             \u001b[38;5;66;03m# Get decoded message\u001b[39;00m\n",
      "File \u001b[1;32m~\\Documents\\wham\\ping\\decode_sensor_binary_log.py:178\u001b[0m, in \u001b[0;36mPingViewerLogReader.__iter__\u001b[1;34m(self)\u001b[0m\n\u001b[0;32m    172\u001b[0m \u001b[38;5;28;01mdef\u001b[39;00m \u001b[38;5;21m__iter__\u001b[39m(\u001b[38;5;28mself\u001b[39m):\n\u001b[0;32m    173\u001b[0m     \u001b[38;5;124;03m\"\"\" Creates an iterator for efficient reading of self.filename.\u001b[39;00m\n\u001b[0;32m    174\u001b[0m \n\u001b[0;32m    175\u001b[0m \u001b[38;5;124;03m    Yields (timestamp, message) pairs for decoding.\u001b[39;00m\n\u001b[0;32m    176\u001b[0m \n\u001b[0;32m    177\u001b[0m \u001b[38;5;124;03m    \"\"\"\u001b[39;00m\n\u001b[1;32m--> 178\u001b[0m     \u001b[38;5;28;01mwith\u001b[39;00m \u001b[38;5;28;43mopen\u001b[39;49m\u001b[43m(\u001b[49m\u001b[38;5;28;43mself\u001b[39;49m\u001b[38;5;241;43m.\u001b[39;49m\u001b[43mfilename\u001b[49m\u001b[43m,\u001b[49m\u001b[43m \u001b[49m\u001b[38;5;124;43m\"\u001b[39;49m\u001b[38;5;124;43mrb\u001b[39;49m\u001b[38;5;124;43m\"\u001b[39;49m\u001b[43m)\u001b[49m \u001b[38;5;28;01mas\u001b[39;00m file:\n\u001b[0;32m    179\u001b[0m         \u001b[38;5;28mself\u001b[39m\u001b[38;5;241m.\u001b[39munpack_header(file)\n\u001b[0;32m    180\u001b[0m         \u001b[38;5;28;01mwhile\u001b[39;00m \u001b[38;5;124m\"\u001b[39m\u001b[38;5;124mdata available\u001b[39m\u001b[38;5;124m\"\u001b[39m:\n",
      "\u001b[1;31mFileNotFoundError\u001b[0m: [Errno 2] No such file or directory: 'ping_analysis\\\\files\\\\20220601-DIV1-2.bin'"
     ]
    }
   ],
   "source": [
    "with outfile.open(\"w\") as out:\n",
    "    csv_writer = csv.writer(out)\n",
    "    csv_writer.writerow((\"timestamp\", \"distance [mm]\", \"confidence [%]\"))\n",
    "    for timestamp, message in log.parser():\n",
    "        # convert the 'duration since scanning started' into a local-time timestamp\n",
    "        #  the .replace here ensures cross-compatibility between operating systems\n",
    "        timestamp = start_time + to_timedelta(timestamp.replace('\\x00',''))\n",
    "        csv_writer.writerow((timestamp, message.distance, message.confidence))"
   ]
  },
  {
   "cell_type": "code",
   "execution_count": null,
   "id": "b03f0cf0-6594-4831-aaa0-713e9999ab33",
   "metadata": {},
   "outputs": [],
   "source": []
  },
  {
   "cell_type": "code",
   "execution_count": null,
   "id": "4af0ecae-dcd2-459b-bf60-898a28431258",
   "metadata": {},
   "outputs": [],
   "source": []
  }
 ],
 "metadata": {
  "kernelspec": {
   "display_name": "Python 3 (ipykernel)",
   "language": "python",
   "name": "python3"
  },
  "language_info": {
   "codemirror_mode": {
    "name": "ipython",
    "version": 3
   },
   "file_extension": ".py",
   "mimetype": "text/x-python",
   "name": "python",
   "nbconvert_exporter": "python",
   "pygments_lexer": "ipython3",
   "version": "3.8.13"
  }
 },
 "nbformat": 4,
 "nbformat_minor": 5
}
